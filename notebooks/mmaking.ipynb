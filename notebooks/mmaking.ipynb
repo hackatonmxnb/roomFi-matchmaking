{
 "cells": [
  {
   "cell_type": "code",
   "execution_count": 25,
   "metadata": {},
   "outputs": [],
   "source": [
    "# config.ipynb cell\n",
    "import os\n",
    "import sys\n",
    "import supabase\n",
    "\n",
    "# Dynamically add the parent directory to the Python path\n",
    "current_dir = os.path.dirname(os.path.abspath(__name__))\n",
    "parent_dir = os.path.dirname(current_dir)\n",
    "sys.path.append(parent_dir)\n",
    "\n",
    "import uuid\n",
    "import random\n",
    "import json\n",
    "from faker import Faker\n",
    "from datetime import datetime\n",
    "from supabase import create_client, Client\n",
    "from src.api.config import settings\n",
    "\n",
    "# Supabase credentials\n",
    "SUPABASE_URL = settings.SUPABASE_URL\n",
    "SUPABASE_KEY = settings.SUPABASE_ANON_KEY\n",
    "client = create_client(SUPABASE_URL, SUPABASE_KEY)\n"
   ]
  },
  {
   "cell_type": "markdown",
   "metadata": {},
   "source": [
    "🔍 2. Pick a Random Test User"
   ]
  },
  {
   "cell_type": "code",
   "execution_count": 36,
   "metadata": {},
   "outputs": [
    {
     "name": "stdout",
     "output_type": "stream",
     "text": [
      "🔍 Testing for user_id: 969d3ddd-59b7-4e5f-81a6-cfd5e72f96d7\n"
     ]
    }
   ],
   "source": [
    "import random\n",
    "\n",
    "# Fetch a few users to test\n",
    "users = client.table(\"user_profiles\").select(\"user_id\").limit(10).execute().data\n",
    "test_user_id = random.choice(users)[\"user_id\"]\n",
    "print(\"🔍 Testing for user_id:\", test_user_id)\n"
   ]
  },
  {
   "cell_type": "markdown",
   "metadata": {},
   "source": [
    "🧠 3. Matchmaking Logic"
   ]
  },
  {
   "cell_type": "code",
   "execution_count": 38,
   "metadata": {},
   "outputs": [],
   "source": [
    "from datetime import datetime\n",
    "\n",
    "def match_top(user_id: str, top_k: int = 5):\n",
    "    user = client.table(\"user_profiles\").select(\"*\").eq(\"user_id\", user_id).single().execute().data\n",
    "    if not user:\n",
    "        return {\"error\": \"User not found\"}\n",
    "\n",
    "    budget_min = user[\"budget_min\"]\n",
    "    budget_max = user[\"budget_max\"]\n",
    "    location = user[\"location_preference\"]\n",
    "    lifestyle_tags = set(user.get(\"lifestyle_tags\") or [])\n",
    "\n",
    "    roommates = client.table(\"user_profiles\") \\\n",
    "        .select(\"*\") \\\n",
    "        .neq(\"user_id\", user_id) \\\n",
    "        .eq(\"location_preference\", location) \\\n",
    "        .gte(\"budget_max\", budget_min) \\\n",
    "        .lte(\"budget_min\", budget_max) \\\n",
    "        .execute().data\n",
    "\n",
    "    properties = client.table(\"properties\") \\\n",
    "        .select(\"*\") \\\n",
    "        .eq(\"location\", location) \\\n",
    "        .gte(\"price\", budget_min) \\\n",
    "        .lte(\"price\", budget_max) \\\n",
    "        .lte(\"available_from\", datetime.utcnow().isoformat()) \\\n",
    "        .execute().data\n",
    "\n",
    "    def roommate_score(rm):\n",
    "        rm_tags = set(rm.get(\"lifestyle_tags\") or [])\n",
    "        tag_score = len(lifestyle_tags & rm_tags) / len(lifestyle_tags | rm_tags) if lifestyle_tags and rm_tags else 0\n",
    "        rm_budget_avg = (rm[\"budget_min\"] + rm[\"budget_max\"]) / 2\n",
    "        user_budget_avg = (budget_min + budget_max) / 2\n",
    "        budget_score = 1 - abs(user_budget_avg - rm_budget_avg) / max(user_budget_avg, rm_budget_avg)\n",
    "        return round(0.5 * budget_score + 0.5 * tag_score, 3)\n",
    "\n",
    "    def property_score(prop):\n",
    "        prop_amenities = set(prop.get(\"amenities\") or [])\n",
    "        amenity_score = len(lifestyle_tags & prop_amenities) / len(lifestyle_tags | prop_amenities) if lifestyle_tags and prop_amenities else 0\n",
    "        price_score = 1 - abs(((budget_min + budget_max) / 2) - prop[\"price\"]) / budget_max\n",
    "        return round(0.7 * price_score + 0.3 * amenity_score, 3)\n",
    "\n",
    "    top_roommates = sorted(roommates, key=roommate_score, reverse=True)[:top_k]\n",
    "    top_properties = sorted(properties, key=property_score, reverse=True)[:top_k]\n",
    "\n",
    "    return {\n",
    "        \"roommate_matches\": [\n",
    "            {\"user_id\": rm[\"user_id\"], \"score\": roommate_score(rm)} for rm in top_roommates\n",
    "        ],\n",
    "        \"property_matches\": [\n",
    "            {\"property_id\": prop[\"id\"], \"score\": property_score(prop)} for prop in top_properties\n",
    "        ]\n",
    "    }\n",
    "# Example usage"
   ]
  },
  {
   "cell_type": "code",
   "execution_count": 51,
   "metadata": {},
   "outputs": [],
   "source": [
    "k = 5\n",
    "results = match_top(user_id=test_user_id, top_k=k)\n"
   ]
  },
  {
   "cell_type": "code",
   "execution_count": 52,
   "metadata": {},
   "outputs": [
    {
     "data": {
      "text/plain": [
       "{'roommate_matches': [{'user_id': '0f5576b4-bd2a-41de-aaac-eab6e28073b9',\n",
       "   'score': 0.987},\n",
       "  {'user_id': 'd86ee1c8-2edb-4696-a6c4-6488f651a699', 'score': 0.96},\n",
       "  {'user_id': 'e44020ec-a478-4381-81a6-419bfc4bd7f8', 'score': 0.823},\n",
       "  {'user_id': '9de7fac9-847f-41d3-92e3-6be8e5dd544b', 'score': 0.811},\n",
       "  {'user_id': '1eddebe4-e8b8-47ca-b0e0-2da43147afa4', 'score': 0.795}],\n",
       " 'property_matches': [{'property_id': 294, 'score': 0.755},\n",
       "  {'property_id': 227, 'score': 0.74},\n",
       "  {'property_id': 761, 'score': 0.732},\n",
       "  {'property_id': 586, 'score': 0.709},\n",
       "  {'property_id': 593, 'score': 0.708}]}"
      ]
     },
     "execution_count": 52,
     "metadata": {},
     "output_type": "execute_result"
    }
   ],
   "source": [
    "results"
   ]
  },
  {
   "cell_type": "code",
   "execution_count": 53,
   "metadata": {},
   "outputs": [
    {
     "name": "stdout",
     "output_type": "stream",
     "text": [
      "🔍 Top K roommates and properties for UserID: 969d3ddd-59b7-4e5f-81a6-cfd5e72f96d7\n",
      "\n",
      "For K = 5, found 5 roommates and 5 properties.\n",
      "\n",
      "🏠 Top Property Matches:\n",
      "1. Property ID: 294, Match Score: 0.755\n",
      "2. Property ID: 227, Match Score: 0.74\n",
      "3. Property ID: 761, Match Score: 0.732\n",
      "4. Property ID: 586, Match Score: 0.709\n",
      "5. Property ID: 593, Match Score: 0.708\n",
      "\n",
      "👥 Top Roommate Matches:\n",
      "1. User ID: 0f5576b4-bd2a-41de-aaac-eab6e28073b9, Match Score: 0.987\n",
      "2. User ID: d86ee1c8-2edb-4696-a6c4-6488f651a699, Match Score: 0.96\n",
      "3. User ID: e44020ec-a478-4381-81a6-419bfc4bd7f8, Match Score: 0.823\n",
      "4. User ID: 9de7fac9-847f-41d3-92e3-6be8e5dd544b, Match Score: 0.811\n",
      "5. User ID: 1eddebe4-e8b8-47ca-b0e0-2da43147afa4, Match Score: 0.795\n"
     ]
    }
   ],
   "source": [
    "print(f\"🔍 Top K roommates and properties for UserID: {test_user_id}\\n\")\n",
    "# print for k - 5\n",
    "print(f\"For K = {k}, found {len(results['roommate_matches'])} roommates and {len(results['property_matches'])} properties.\\n\")\n",
    "\n",
    "print(\"🏠 Top Property Matches:\")\n",
    "for idx, match in enumerate(results[\"property_matches\"], start=1):\n",
    "    print(f\"{idx}. Property ID: {match['property_id']}, Match Score: {match['score']}\")\n",
    "\n",
    "print(\"\\n👥 Top Roommate Matches:\")\n",
    "for idx, match in enumerate(results[\"roommate_matches\"], start=1):\n",
    "    print(f\"{idx}. User ID: {match['user_id']}, Match Score: {match['score']}\")"
   ]
  },
  {
   "cell_type": "code",
   "execution_count": null,
   "metadata": {},
   "outputs": [],
   "source": []
  },
  {
   "cell_type": "code",
   "execution_count": null,
   "metadata": {},
   "outputs": [],
   "source": []
  }
 ],
 "metadata": {
  "kernelspec": {
   "display_name": "hackMerida",
   "language": "python",
   "name": "python3"
  },
  "language_info": {
   "codemirror_mode": {
    "name": "ipython",
    "version": 3
   },
   "file_extension": ".py",
   "mimetype": "text/x-python",
   "name": "python",
   "nbconvert_exporter": "python",
   "pygments_lexer": "ipython3",
   "version": "3.8.19"
  }
 },
 "nbformat": 4,
 "nbformat_minor": 2
}
