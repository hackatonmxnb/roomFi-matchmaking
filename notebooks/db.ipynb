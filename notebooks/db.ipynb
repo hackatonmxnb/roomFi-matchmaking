{
 "cells": [
  {
   "cell_type": "code",
   "execution_count": 4,
   "metadata": {},
   "outputs": [
    {
     "name": "stdout",
     "output_type": "stream",
     "text": [
      "Using user_id: 9905bc81-c8cc-40d0-890c-d716b9d4c874\n",
      "Status Code: 200\n",
      "Response JSON: {'message': 'User profile created', 'user_id': '9905bc81-c8cc-40d0-890c-d716b9d4c874'}\n"
     ]
    }
   ],
   "source": [
    "import requests\n",
    "import uuid\n",
    "\n",
    "# Backend API URL\n",
    "API_URL = \"http://localhost:8080/db/new/user\"  # or your deployed FastAPI URL\n",
    "\n",
    "# Replace this with a real Supabase user_id from auth.users\n",
    "user_id = \"2f850ed7-8138-4c7f-aaf4-cd4ba2b5c940\"\n",
    "# create a random user_id if you want to test\n",
    "user_id = str(uuid.uuid4())  # Uncomment to generate a random UUID\n",
    "print(f\"Using user_id: {user_id}\")\n",
    "\n",
    "# Construct the request payload\n",
    "payload = {\n",
    "    \"user_id\": user_id,\n",
    "    \"first_name\": \"Sofía\",\n",
    "    \"last_name\": \"Ramírez\",\n",
    "    \"gender\": \"female\",\n",
    "    \"age\": 26,\n",
    "    \"budget_min\": 4500,\n",
    "    \"budget_max\": 7000,\n",
    "    \"location_preference\": \"Guadalajara\",\n",
    "    \"lifestyle_tags\": [\"early_bird\", \"no_pets\"],\n",
    "    \"roomie_preferences\": {\"gender\": \"female\", \"smoking\": \"no\"},\n",
    "    \"bio\": \"Me gusta el yoga, leer, y la tranquilidad.\",\n",
    "    \"profile_image_url\": \"https://example.com/sofia.png\"\n",
    "}\n",
    "\n",
    "# Send the POST request\n",
    "response = requests.post(API_URL, json=payload)\n",
    "\n",
    "# Print the response\n",
    "print(\"Status Code:\", response.status_code)\n",
    "print(\"Response JSON:\", response.json())\n"
   ]
  },
  {
   "cell_type": "code",
   "execution_count": 5,
   "metadata": {},
   "outputs": [
    {
     "name": "stdout",
     "output_type": "stream",
     "text": [
      "Using user_id: ff2c8d56-8df9-4eac-a1ef-ea98feec39e6\n"
     ]
    }
   ],
   "source": [
    "user_id = str(uuid.uuid4())  # Uncomment to generate a random UUID\n",
    "print(f\"Using user_id: {user_id}\")"
   ]
  },
  {
   "cell_type": "code",
   "execution_count": 6,
   "metadata": {},
   "outputs": [],
   "source": [
    "# Construct the request payload\n",
    "payload = {\n",
    "    \"user_id\": user_id,\n",
    "    \"first_name\": \"Sofía\",\n",
    "    \"last_name\": \"Ramírez\",\n",
    "    \"gender\": \"female\",\n",
    "    \"age\": 26,\n",
    "    \"budget_min\": 4500,\n",
    "    \"budget_max\": 7000,\n",
    "    \"location_preference\": \"Guadalajara\",\n",
    "    \"lifestyle_tags\": [\"early_bird\", \"no_pets\"],\n",
    "    \"roomie_preferences\": {\"gender\": \"female\", \"smoking\": \"no\"},\n",
    "    \"bio\": \"Me gusta el yoga, leer, y la tranquilidad.\",\n",
    "    \"profile_image_url\": \"https://example.com/sofia.png\"\n",
    "}"
   ]
  },
  {
   "cell_type": "code",
   "execution_count": 7,
   "metadata": {},
   "outputs": [
    {
     "data": {
      "text/plain": [
       "{'user_id': 'ff2c8d56-8df9-4eac-a1ef-ea98feec39e6',\n",
       " 'first_name': 'Sofía',\n",
       " 'last_name': 'Ramírez',\n",
       " 'gender': 'female',\n",
       " 'age': 26,\n",
       " 'budget_min': 4500,\n",
       " 'budget_max': 7000,\n",
       " 'location_preference': 'Guadalajara',\n",
       " 'lifestyle_tags': ['early_bird', 'no_pets'],\n",
       " 'roomie_preferences': {'gender': 'female', 'smoking': 'no'},\n",
       " 'bio': 'Me gusta el yoga, leer, y la tranquilidad.',\n",
       " 'profile_image_url': 'https://example.com/sofia.png'}"
      ]
     },
     "execution_count": 7,
     "metadata": {},
     "output_type": "execute_result"
    }
   ],
   "source": [
    "payload"
   ]
  }
 ],
 "metadata": {
  "kernelspec": {
   "display_name": "hackMerida",
   "language": "python",
   "name": "python3"
  },
  "language_info": {
   "codemirror_mode": {
    "name": "ipython",
    "version": 3
   },
   "file_extension": ".py",
   "mimetype": "text/x-python",
   "name": "python",
   "nbconvert_exporter": "python",
   "pygments_lexer": "ipython3",
   "version": "3.8.19"
  }
 },
 "nbformat": 4,
 "nbformat_minor": 2
}
