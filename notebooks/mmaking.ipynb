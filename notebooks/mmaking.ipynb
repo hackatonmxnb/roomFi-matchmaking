{
 "cells": [
  {
   "cell_type": "code",
   "execution_count": 25,
   "metadata": {},
   "outputs": [],
   "source": [
    "# config.ipynb cell\n",
    "import os\n",
    "import sys\n",
    "import supabase\n",
    "\n",
    "# Dynamically add the parent directory to the Python path\n",
    "current_dir = os.path.dirname(os.path.abspath(__name__))\n",
    "parent_dir = os.path.dirname(current_dir)\n",
    "sys.path.append(parent_dir)\n",
    "\n",
    "import uuid\n",
    "import random\n",
    "import json\n",
    "from faker import Faker\n",
    "from datetime import datetime\n",
    "from supabase import create_client, Client\n",
    "from src.api.config import settings\n",
    "\n",
    "# Supabase credentials\n",
    "SUPABASE_URL = settings.SUPABASE_URL\n",
    "SUPABASE_KEY = settings.SUPABASE_ANON_KEY\n",
    "client = create_client(SUPABASE_URL, SUPABASE_KEY)\n"
   ]
  },
  {
   "cell_type": "markdown",
   "metadata": {},
   "source": [
    "🔍 2. Pick a Random Test User"
   ]
  },
  {
   "cell_type": "code",
   "execution_count": 36,
   "metadata": {},
   "outputs": [
    {
     "name": "stdout",
     "output_type": "stream",
     "text": [
      "🔍 Testing for user_id: 969d3ddd-59b7-4e5f-81a6-cfd5e72f96d7\n"
     ]
    }
   ],
   "source": [
    "import random\n",
    "\n",
    "# Fetch a few users to test\n",
    "users = client.table(\"user_profiles\").select(\"user_id\").limit(10).execute().data\n",
    "test_user_id = random.choice(users)[\"user_id\"]\n",
    "print(\"🔍 Testing for user_id:\", test_user_id)\n"
   ]
  }
 ],
 "metadata": {
  "kernelspec": {
   "display_name": "hackMerida",
   "language": "python",
   "name": "python3"
  },
  "language_info": {
   "codemirror_mode": {
    "name": "ipython",
    "version": 3
   },
   "file_extension": ".py",
   "mimetype": "text/x-python",
   "name": "python",
   "nbconvert_exporter": "python",
   "pygments_lexer": "ipython3",
   "version": "3.8.19"
  }
 },
 "nbformat": 4,
 "nbformat_minor": 2
}
