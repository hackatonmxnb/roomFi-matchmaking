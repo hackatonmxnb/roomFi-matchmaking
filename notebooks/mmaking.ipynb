{
 "cells": [
  {
   "cell_type": "code",
   "execution_count": 1,
   "metadata": {},
   "outputs": [],
   "source": [
    "# config.ipynb cell\n",
    "import os\n",
    "import sys\n",
    "import supabase\n",
    "\n",
    "# Dynamically add the parent directory to the Python path\n",
    "current_dir = os.path.dirname(os.path.abspath(__name__))\n",
    "parent_dir = os.path.dirname(current_dir)\n",
    "sys.path.append(parent_dir)\n",
    "\n",
    "import uuid\n",
    "import random\n",
    "import json\n",
    "from faker import Faker\n",
    "from datetime import datetime\n",
    "from supabase import create_client, Client\n",
    "from src.api.config import settings\n",
    "\n",
    "# Supabase credentials\n",
    "SUPABASE_URL = settings.SUPABASE_URL\n",
    "SUPABASE_KEY = settings.SUPABASE_ANON_KEY\n",
    "client = create_client(SUPABASE_URL, SUPABASE_KEY)\n"
   ]
  },
  {
   "cell_type": "markdown",
   "metadata": {},
   "source": [
    "🔍 2. Pick a Random Test User"
   ]
  },
  {
   "cell_type": "code",
   "execution_count": 2,
   "metadata": {},
   "outputs": [
    {
     "name": "stdout",
     "output_type": "stream",
     "text": [
      "🔍 Testing for user_id: 876f58a6-7661-42dc-974b-9b0e951181a0\n"
     ]
    }
   ],
   "source": [
    "import random\n",
    "\n",
    "# Fetch a few users to test\n",
    "users = client.table(\"user_profiles\").select(\"user_id\").limit(10).execute().data\n",
    "test_user_id = random.choice(users)[\"user_id\"]\n",
    "print(\"🔍 Testing for user_id:\", test_user_id)\n"
   ]
  },
  {
   "cell_type": "code",
   "execution_count": 14,
   "metadata": {},
   "outputs": [
    {
     "data": {
      "text/plain": [
       "{'id': 1,\n",
       " 'owner_user_id': '2f850ed7-8138-4c7f-aaf4-cd4ba2b5c930',\n",
       " 'address': '4106 Peterson Center, East Matthew, MA 92472',\n",
       " 'location': 'Guadalajara',\n",
       " 'price': 4928,\n",
       " 'amenities': ['parking', 'wifi', 'balcony'],\n",
       " 'num_rooms': 3,\n",
       " 'bathrooms': 2,\n",
       " 'available_from': '2025-07-13T23:28:52.28672',\n",
       " 'available_to': '2025-12-27T23:28:52.28672',\n",
       " 'created_at': '2025-07-01T23:28:52.286729+00:00',\n",
       " 'updated_at': '2025-07-01T23:28:52.286729+00:00'}"
      ]
     },
     "execution_count": 14,
     "metadata": {},
     "output_type": "execute_result"
    }
   ],
   "source": [
    "user = client.table(\"properties\").select(\"*\").eq(\"id\", 1).execute().data\n",
    "user[0]"
   ]
  },
  {
   "cell_type": "markdown",
   "metadata": {},
   "source": [
    "🧠 3. Matchmaking Logic"
   ]
  },
  {
   "cell_type": "code",
   "execution_count": 64,
   "metadata": {},
   "outputs": [],
   "source": [
    "from datetime import datetime\n",
    "\n",
    "def match_top(user_id: str, top_k: int = 5):\n",
    "    user = client.table(\"user_profiles\").select(\"*\").eq(\"user_id\", user_id).single().execute().data\n",
    "    if not user:\n",
    "        return {\"error\": \"User not found\"}\n",
    "\n",
    "    budget_min = user[\"budget_min\"]\n",
    "    budget_max = user[\"budget_max\"]\n",
    "    location = user[\"location_preference\"]\n",
    "    lifestyle_tags = set(user.get(\"lifestyle_tags\") or [])\n",
    "\n",
    "    roommates = client.table(\"user_profiles\") \\\n",
    "        .select(\"*\") \\\n",
    "        .neq(\"user_id\", user_id) \\\n",
    "        .eq(\"location_preference\", location) \\\n",
    "        .gte(\"budget_max\", budget_min) \\\n",
    "        .lte(\"budget_min\", budget_max) \\\n",
    "        .execute().data\n",
    "\n",
    "    properties = client.table(\"properties\") \\\n",
    "        .select(\"*\") \\\n",
    "        .eq(\"location\", location) \\\n",
    "        .gte(\"price\", budget_min) \\\n",
    "        .lte(\"price\", budget_max) \\\n",
    "        .lte(\"available_from\", datetime.utcnow().isoformat()) \\\n",
    "        .execute().data\n",
    "\n",
    "    def roommate_score(rm):\n",
    "        rm_tags = set(rm.get(\"lifestyle_tags\") or [])\n",
    "        tag_score = len(lifestyle_tags & rm_tags) / len(lifestyle_tags | rm_tags) if lifestyle_tags and rm_tags else 0\n",
    "        rm_budget_avg = (rm[\"budget_min\"] + rm[\"budget_max\"]) / 2\n",
    "        user_budget_avg = (budget_min + budget_max) / 2\n",
    "        budget_score = 1 - abs(user_budget_avg - rm_budget_avg) / max(user_budget_avg, rm_budget_avg)\n",
    "        return round(0.5 * budget_score + 0.5 * tag_score, 3)\n",
    "\n",
    "    def property_score(prop):\n",
    "        prop_amenities = set(prop.get(\"amenities\") or [])\n",
    "        amenity_score = len(lifestyle_tags & prop_amenities) / len(lifestyle_tags | prop_amenities) if lifestyle_tags and prop_amenities else 0\n",
    "        price_score = 1 - abs(((budget_min + budget_max) / 2) - prop[\"price\"]) / budget_max\n",
    "        return round(0.7 * price_score + 0.3 * amenity_score, 3)\n",
    "\n",
    "    top_roommates = sorted(roommates, key=roommate_score, reverse=True)[:top_k]\n",
    "    top_properties = sorted(properties, key=property_score, reverse=True)[:top_k]\n",
    "\n",
    "    return {\n",
    "        \"roommate_matches\": [\n",
    "            {\"user_id\": rm[\"user_id\"], \"score\": roommate_score(rm)} for rm in top_roommates\n",
    "        ],\n",
    "        \"property_matches\": [\n",
    "            {\"property_id\": prop[\"id\"], \"score\": property_score(prop)} for prop in top_properties\n",
    "        ]\n",
    "    }\n",
    "# Example usage"
   ]
  },
  {
   "cell_type": "code",
   "execution_count": 65,
   "metadata": {},
   "outputs": [],
   "source": [
    "k = 5\n",
    "results = match_top(user_id=test_user_id, top_k=k)\n"
   ]
  },
  {
   "cell_type": "code",
   "execution_count": 66,
   "metadata": {},
   "outputs": [
    {
     "data": {
      "text/plain": [
       "{'roommate_matches': [{'user_id': 'f5c4f074-a14e-4634-8afb-f2ccdddb3700',\n",
       "   'score': 0.841},\n",
       "  {'user_id': '365f5926-b8cb-4037-9b19-de6f913a7545', 'score': 0.818},\n",
       "  {'user_id': 'ddcfb9bb-24f6-4e05-aaa8-c9b8412ea3b7', 'score': 0.797},\n",
       "  {'user_id': 'e279cad8-4c42-4486-b189-05d2d60bef1c', 'score': 0.784},\n",
       "  {'user_id': '9e01d97e-acb0-4e2c-98d4-17b690aed010', 'score': 0.779}],\n",
       " 'property_matches': [{'property_id': 518, 'score': 0.695},\n",
       "  {'property_id': 302, 'score': 0.66},\n",
       "  {'property_id': 738, 'score': 0.626},\n",
       "  {'property_id': 436, 'score': 0.584}]}"
      ]
     },
     "execution_count": 66,
     "metadata": {},
     "output_type": "execute_result"
    }
   ],
   "source": [
    "results"
   ]
  },
  {
   "cell_type": "code",
   "execution_count": 67,
   "metadata": {},
   "outputs": [
    {
     "name": "stdout",
     "output_type": "stream",
     "text": [
      "🔍 Top K roommates and properties for UserID: b5634cac-b8da-4dd0-8256-51a06003b794\n",
      "\n",
      "For K = 5, found 5 roommates and 4 properties.\n",
      "\n",
      "🏠 Top Property Matches:\n",
      "1. Property ID: 518, Match Score: 0.695\n",
      "2. Property ID: 302, Match Score: 0.66\n",
      "3. Property ID: 738, Match Score: 0.626\n",
      "4. Property ID: 436, Match Score: 0.584\n",
      "\n",
      "👥 Top Roommate Matches:\n",
      "1. User ID: f5c4f074-a14e-4634-8afb-f2ccdddb3700, Match Score: 0.841\n",
      "2. User ID: 365f5926-b8cb-4037-9b19-de6f913a7545, Match Score: 0.818\n",
      "3. User ID: ddcfb9bb-24f6-4e05-aaa8-c9b8412ea3b7, Match Score: 0.797\n",
      "4. User ID: e279cad8-4c42-4486-b189-05d2d60bef1c, Match Score: 0.784\n",
      "5. User ID: 9e01d97e-acb0-4e2c-98d4-17b690aed010, Match Score: 0.779\n"
     ]
    }
   ],
   "source": [
    "print(f\"🔍 Top K roommates and properties for UserID: {test_user_id}\\n\")\n",
    "# print for k - 5\n",
    "print(f\"For K = {k}, found {len(results['roommate_matches'])} roommates and {len(results['property_matches'])} properties.\\n\")\n",
    "\n",
    "print(\"🏠 Top Property Matches:\")\n",
    "for idx, match in enumerate(results[\"property_matches\"], start=1):\n",
    "    print(f\"{idx}. Property ID: {match['property_id']}, Match Score: {match['score']}\")\n",
    "\n",
    "print(\"\\n👥 Top Roommate Matches:\")\n",
    "for idx, match in enumerate(results[\"roommate_matches\"], start=1):\n",
    "    print(f\"{idx}. User ID: {match['user_id']}, Match Score: {match['score']}\")"
   ]
  },
  {
   "cell_type": "code",
   "execution_count": 68,
   "metadata": {},
   "outputs": [
    {
     "data": {
      "text/plain": [
       "'b5634cac-b8da-4dd0-8256-51a06003b794'"
      ]
     },
     "execution_count": 68,
     "metadata": {},
     "output_type": "execute_result"
    }
   ],
   "source": [
    "test_user_id"
   ]
  },
  {
   "cell_type": "code",
   "execution_count": 83,
   "metadata": {},
   "outputs": [],
   "source": [
    "import requests\n",
    "\n",
    "url = \"https://782e-2806-2f0-4060-f367-90b7-78df-5d0b-de33.ngrok-free.app/matchmaking/match/top\"\n",
    "params = {\n",
    "    \"user_id\": test_user_id,\n",
    "    \"top_k\": k\n",
    "}\n",
    "\n",
    "response_ngrok = requests.post(f\"https://782e-2806-2f0-4060-f367-90b7-78df-5d0b-de33.ngrok-free.app/matchmaking/match/top\", params=params)"
   ]
  },
  {
   "cell_type": "code",
   "execution_count": 89,
   "metadata": {},
   "outputs": [
    {
     "data": {
      "text/plain": [
       "200"
      ]
     },
     "execution_count": 89,
     "metadata": {},
     "output_type": "execute_result"
    }
   ],
   "source": [
    "response_ngrok.status_code"
   ]
  },
  {
   "cell_type": "code",
   "execution_count": 90,
   "metadata": {},
   "outputs": [
    {
     "data": {
      "text/plain": [
       "{'Content-Length': '503', 'Content-Type': 'application/json', 'Date': 'Wed, 02 Jul 2025 00:52:34 GMT', 'Ngrok-Agent-Ips': '2806:2f0:4060:f367:90b7:78df:5d0b:de33', 'Server': 'uvicorn'}"
      ]
     },
     "execution_count": 90,
     "metadata": {},
     "output_type": "execute_result"
    }
   ],
   "source": [
    "response_ngrok.headers"
   ]
  },
  {
   "cell_type": "code",
   "execution_count": 84,
   "metadata": {},
   "outputs": [
    {
     "data": {
      "text/plain": [
       "{'roommate_matches': [{'user_id': 'f5c4f074-a14e-4634-8afb-f2ccdddb3700',\n",
       "   'score': 0.841},\n",
       "  {'user_id': '365f5926-b8cb-4037-9b19-de6f913a7545', 'score': 0.818},\n",
       "  {'user_id': 'ddcfb9bb-24f6-4e05-aaa8-c9b8412ea3b7', 'score': 0.797},\n",
       "  {'user_id': 'e279cad8-4c42-4486-b189-05d2d60bef1c', 'score': 0.784},\n",
       "  {'user_id': '9e01d97e-acb0-4e2c-98d4-17b690aed010', 'score': 0.779}],\n",
       " 'property_matches': [{'property_id': 518, 'score': 0.695},\n",
       "  {'property_id': 302, 'score': 0.66},\n",
       "  {'property_id': 738, 'score': 0.626},\n",
       "  {'property_id': 436, 'score': 0.584}]}"
      ]
     },
     "execution_count": 84,
     "metadata": {},
     "output_type": "execute_result"
    }
   ],
   "source": [
    "response_ngrok.json()"
   ]
  }
 ],
 "metadata": {
  "kernelspec": {
   "display_name": "hackMerida",
   "language": "python",
   "name": "python3"
  },
  "language_info": {
   "codemirror_mode": {
    "name": "ipython",
    "version": 3
   },
   "file_extension": ".py",
   "mimetype": "text/x-python",
   "name": "python",
   "nbconvert_exporter": "python",
   "pygments_lexer": "ipython3",
   "version": "3.8.19"
  }
 },
 "nbformat": 4,
 "nbformat_minor": 2
}
