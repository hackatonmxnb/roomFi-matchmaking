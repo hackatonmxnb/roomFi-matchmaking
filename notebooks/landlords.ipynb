{
 "cells": [
  {
   "cell_type": "code",
   "execution_count": 1,
   "metadata": {},
   "outputs": [],
   "source": [
    "# config.ipynb cell\n",
    "import os\n",
    "import sys\n",
    "import supabase\n",
    "\n",
    "# Dynamically add the parent directory to the Python path\n",
    "current_dir = os.path.dirname(os.path.abspath(__name__))\n",
    "parent_dir = os.path.dirname(current_dir)\n",
    "sys.path.append(parent_dir)\n",
    "\n",
    "import uuid\n",
    "import random\n",
    "import json\n",
    "from faker import Faker\n",
    "from datetime import datetime\n",
    "from supabase import create_client, Client\n",
    "from src.api.config import settings\n",
    "\n",
    "# Supabase credentials\n",
    "SUPABASE_URL = settings.SUPABASE_URL\n",
    "SUPABASE_KEY = settings.SUPABASE_ANON_KEY\n",
    "client = create_client(SUPABASE_URL, SUPABASE_KEY)\n"
   ]
  },
  {
   "cell_type": "markdown",
   "metadata": {},
   "source": [
    "✅ Step 2: Get Distinct owner_user_ids from properties"
   ]
  },
  {
   "cell_type": "code",
   "execution_count": 2,
   "metadata": {},
   "outputs": [
    {
     "name": "stdout",
     "output_type": "stream",
     "text": [
      "642 unique owner_user_ids found.\n"
     ]
    }
   ],
   "source": [
    "response = client.table(\"properties\").select(\"owner_user_id\").execute()\n",
    "owner_ids = list({item[\"owner_user_id\"] for item in response.data})\n",
    "print(f\"{len(owner_ids)} unique owner_user_ids found.\")\n"
   ]
  },
  {
   "cell_type": "markdown",
   "metadata": {},
   "source": [
    "✅ Step 3: Get Existing Landlord Profiles"
   ]
  },
  {
   "cell_type": "code",
   "execution_count": 3,
   "metadata": {},
   "outputs": [
    {
     "name": "stdout",
     "output_type": "stream",
     "text": [
      "642 new landlord profiles to create.\n"
     ]
    }
   ],
   "source": [
    "existing = client.table(\"landlord_profile\").select(\"user_id\").in_(\"user_id\", owner_ids).execute()\n",
    "existing_user_ids = {item[\"user_id\"] for item in existing.data}\n",
    "\n",
    "# Filter only new ones\n",
    "new_owner_ids = [uid for uid in owner_ids if uid not in existing_user_ids]\n",
    "print(f\"{len(new_owner_ids)} new landlord profiles to create.\")\n"
   ]
  },
  {
   "cell_type": "markdown",
   "metadata": {},
   "source": [
    "🧪 Step-by-Step Jupyter Implementation (Supabase Client)\n",
    "\n",
    "✅ Step 1: Fetch all properties and group by owner_user_id"
   ]
  },
  {
   "cell_type": "code",
   "execution_count": 4,
   "metadata": {},
   "outputs": [],
   "source": [
    "from collections import defaultdict\n",
    "from datetime import datetime\n",
    "from faker import Faker\n",
    "import random\n",
    "\n",
    "faker = Faker()\n",
    "\n",
    "# Fetch all properties\n",
    "response = client.table(\"properties\").select(\"*\").limit(1000).execute()\n",
    "properties = response.data\n",
    "\n",
    "# Group by owner_user_id\n",
    "owners = defaultdict(list)\n",
    "for prop in properties:\n",
    "    owners[prop[\"owner_user_id\"]].append(prop)\n"
   ]
  },
  {
   "cell_type": "markdown",
   "metadata": {},
   "source": [
    "✅ Step 2: Generate landlord profiles from grouped data"
   ]
  },
  {
   "cell_type": "code",
   "execution_count": 8,
   "metadata": {},
   "outputs": [
    {
     "name": "stdout",
     "output_type": "stream",
     "text": [
      "Generated 642 landlord profiles.\n"
     ]
    }
   ],
   "source": [
    "from dateutil.parser import parse as parse_datetime\n",
    "\n",
    "def generate_landlord_profile(owner_id, owned_props):\n",
    "    # Derive preferred locations\n",
    "    preferred_locations = list({p[\"location\"] for p in owned_props if p[\"location\"]})\n",
    "\n",
    "    # Parse datetime strings robustly\n",
    "    created_times = [p[\"created_at\"] for p in owned_props if p[\"created_at\"]]\n",
    "    created_times_dt = [parse_datetime(t) for t in created_times]\n",
    "    joined_at = min(created_times_dt) if created_times_dt else datetime.utcnow()\n",
    "\n",
    "    return {\n",
    "        \"user_id\": owner_id,\n",
    "        \"full_name\": faker.name(),\n",
    "        \"phone_number\": faker.phone_number(),\n",
    "        \"verified\": False,\n",
    "        \"bio\": faker.text(max_nb_chars=100),\n",
    "        \"profile_image_url\": None,\n",
    "        \"joined_at\": joined_at.isoformat(),\n",
    "        \"preferred_locations\": preferred_locations\n",
    "    }\n",
    "\n",
    "\n",
    "landlord_profiles = [\n",
    "    generate_landlord_profile(owner_id, props)\n",
    "    for owner_id, props in owners.items()\n",
    "]\n",
    "\n",
    "print(f\"Generated {len(landlord_profiles)} landlord profiles.\")\n"
   ]
  },
  {
   "cell_type": "markdown",
   "metadata": {},
   "source": [
    "✅ Step 3: Batch insert into landlord_profile table"
   ]
  },
  {
   "cell_type": "code",
   "execution_count": 9,
   "metadata": {},
   "outputs": [
    {
     "name": "stdout",
     "output_type": "stream",
     "text": [
      "Inserted batch 1/13 - 50 records.\n",
      "Inserted batch 2/13 - 50 records.\n",
      "Inserted batch 3/13 - 50 records.\n",
      "Inserted batch 4/13 - 50 records.\n",
      "Inserted batch 5/13 - 50 records.\n",
      "Inserted batch 6/13 - 50 records.\n",
      "Inserted batch 7/13 - 50 records.\n",
      "Inserted batch 8/13 - 50 records.\n",
      "Inserted batch 9/13 - 50 records.\n",
      "Inserted batch 10/13 - 50 records.\n",
      "Inserted batch 11/13 - 50 records.\n",
      "Inserted batch 12/13 - 50 records.\n",
      "Inserted batch 13/13 - 42 records.\n"
     ]
    }
   ],
   "source": [
    "from math import ceil\n",
    "\n",
    "BATCH_SIZE = 50\n",
    "num_batches = ceil(len(landlord_profiles) / BATCH_SIZE)\n",
    "\n",
    "for i in range(num_batches):\n",
    "    batch = landlord_profiles[i * BATCH_SIZE : (i + 1) * BATCH_SIZE]\n",
    "    client.table(\"landlord_profile\").insert(batch).execute()\n",
    "    print(f\"Inserted batch {i+1}/{num_batches} - {len(batch)} records.\")\n"
   ]
  },
  {
   "cell_type": "code",
   "execution_count": 10,
   "metadata": {},
   "outputs": [
    {
     "name": "stdout",
     "output_type": "stream",
     "text": [
      "Total landlord profiles in DB: 642\n"
     ]
    }
   ],
   "source": [
    "count_resp = client.table(\"landlord_profile\").select(\"user_id\", count=\"exact\").execute()\n",
    "print(f\"Total landlord profiles in DB: {count_resp.count}\")\n"
   ]
  }
 ],
 "metadata": {
  "kernelspec": {
   "display_name": "hackMerida",
   "language": "python",
   "name": "python3"
  },
  "language_info": {
   "codemirror_mode": {
    "name": "ipython",
    "version": 3
   },
   "file_extension": ".py",
   "mimetype": "text/x-python",
   "name": "python",
   "nbconvert_exporter": "python",
   "pygments_lexer": "ipython3",
   "version": "3.8.19"
  }
 },
 "nbformat": 4,
 "nbformat_minor": 2
}
